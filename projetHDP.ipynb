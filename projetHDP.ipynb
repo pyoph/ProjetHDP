{
  "nbformat": 4,
  "nbformat_minor": 0,
  "metadata": {
    "colab": {
      "provenance": [],
      "authorship_tag": "ABX9TyNA3e/Iut9PHHtCVsQzbk+c",
      "include_colab_link": true
    },
    "kernelspec": {
      "name": "python3",
      "display_name": "Python 3"
    },
    "language_info": {
      "name": "python"
    }
  },
  "cells": [
    {
      "cell_type": "markdown",
      "metadata": {
        "id": "view-in-github",
        "colab_type": "text"
      },
      "source": [
        "<a href=\"https://colab.research.google.com/github/pyoph/ProjetHDP/blob/main/projetHDP.ipynb\" target=\"_parent\"><img src=\"https://colab.research.google.com/assets/colab-badge.svg\" alt=\"Open In Colab\"/></a>"
      ]
    },
    {
      "cell_type": "code",
      "execution_count": 2,
      "metadata": {
        "id": "Ap61wX_9YFix"
      },
      "outputs": [],
      "source": [
        "import cvxpy as cp\n",
        "import numpy as np"
      ]
    },
    {
      "cell_type": "code",
      "source": [
        "#Premiers essais relaxation convexe (p,q) SBM : X_i,i = 1\n",
        "\n",
        "\n",
        "np.random.seed(1)\n",
        "\n",
        "#Paramètres\n",
        "n = 3\n",
        "#Définitions des seuils\n",
        "p = np.random.uniform(0,1)\n",
        "q = np.random.uniform(0,1)\n",
        "\n",
        "J3 = np.array([[1,1,1],[1,1,1],[1,1,1]])\n",
        "\n",
        "#Tuning parameter\n",
        "l = (np.log(p/(1 - p)) - np.log(q/(1 - q)))/(np.log(p) - np.log(q) + np.log(1 - q) - np.log(1 - p))\n",
        "\n",
        "#Définition de la matrice Z à estimer\n",
        "\n",
        "Z = np.random.choice([0, 1], size=(n, n))\n",
        "Z[0][0] = 1\n",
        "Z[1][1] = 1\n",
        "Z[2][2] = 1\n",
        "\n",
        "\n",
        "print(Z)\n",
        "\n",
        "C = np.random.uniform(0,1,size=(n,n))\n",
        "\n",
        "#Définition de la matrice C observée\n",
        "\n",
        "for i in range(3):\n",
        "  for j in range(3) :\n",
        "    if (Z[i][j] == 0) : C[i][j] = np.random.choice([0,1],p = [1 -p,p])\n",
        "    else : C[i][j] = np.random.choice([0,1],p = [1 -q,q])\n",
        "\n",
        "\n",
        "\n",
        "print(C)\n",
        "\n",
        "A = []\n",
        "b = []\n",
        "for i in range(n):\n",
        "    b.append(1)\n",
        "\n",
        "    A.append(np.array([[1,0,0], [0,0,0], [0,0,0]]))\n",
        "    A.append(np.array([[0,0,0], [0,1,0], [0,0,0]]))\n",
        "    A.append(np.array([[0,0,0], [0,0,0], [0,0,1]]))\n",
        "\n",
        "\n",
        "\n",
        "# Define and solve the CVXPY problem.\n",
        "# Create a symmetric matrix variable.\n",
        "X = cp.Variable((n,n), symmetric=True)\n",
        "# The operator >> denotes matrix inequality.\n",
        "constraints = [X >> 0]\n",
        "constraints += [\n",
        "    cp.trace(A[i] @ X) == b[i] for i in range(n)\n",
        "]\n",
        "prob = cp.Problem(cp.Minimize(cp.trace((C - l*J3) @ X)),\n",
        "                  constraints)\n",
        "prob.solve()\n",
        "\n",
        "# Print result.\n",
        "print(\"The optimal value is\", prob.value)\n",
        "print(\"A solution X is\")\n",
        "print(X.value)"
      ],
      "metadata": {
        "colab": {
          "base_uri": "https://localhost:8080/"
        },
        "id": "k_NKMx0sYOn7",
        "outputId": "d34701bc-d43f-4c42-9e25-d9742a016a58"
      },
      "execution_count": 11,
      "outputs": [
        {
          "output_type": "stream",
          "name": "stdout",
          "text": [
            "[[1 1 1]\n",
            " [1 1 0]\n",
            " [0 1 1]]\n",
            "[[1. 1. 1.]\n",
            " [1. 1. 1.]\n",
            " [1. 0. 1.]]\n",
            "The optimal value is -0.999999929688672\n",
            "A solution X is\n",
            "[[1.         0.         0.        ]\n",
            " [0.         1.         0.99999993]\n",
            " [0.         0.99999993 1.        ]]\n"
          ]
        }
      ]
    }
  ]
}