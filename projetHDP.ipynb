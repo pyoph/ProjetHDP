{
  "nbformat": 4,
  "nbformat_minor": 0,
  "metadata": {
    "colab": {
      "provenance": [],
      "authorship_tag": "ABX9TyPom1Abd63t5jLdIKrjZRF1",
      "include_colab_link": true
    },
    "kernelspec": {
      "name": "python3",
      "display_name": "Python 3"
    },
    "language_info": {
      "name": "python"
    }
  },
  "cells": [
    {
      "cell_type": "markdown",
      "metadata": {
        "id": "view-in-github",
        "colab_type": "text"
      },
      "source": [
        "<a href=\"https://colab.research.google.com/github/pyoph/ProjetHDP/blob/main/projetHDP.ipynb\" target=\"_parent\"><img src=\"https://colab.research.google.com/assets/colab-badge.svg\" alt=\"Open In Colab\"/></a>"
      ]
    },
    {
      "cell_type": "code",
      "execution_count": 1,
      "metadata": {
        "id": "Ap61wX_9YFix"
      },
      "outputs": [],
      "source": [
        "import cvxpy as cp\n",
        "import numpy as np"
      ]
    },
    {
      "cell_type": "code",
      "source": [
        "#Premiers essais relaxation convexe (p,q) SBM : X_i,i = 1\n",
        "\n",
        "\n",
        "np.random.seed(1)\n",
        "\n",
        "#Paramètres\n",
        "n = 3\n",
        "p = np.random.uniform(0,1)\n",
        "q = np.random.uniform(0,1)\n",
        "\n",
        "J3 = np.array([[1,1,1],[1,1,1],[1,1,1]])\n",
        "\n",
        "#Tuning parameter\n",
        "l = (np.log(p/(1 - p)) - np.log(q/(1 - q)))/(np.log(p) - np.log(q) + np.log(1 - q) - np.log(1 - p))\n",
        "\n",
        "#Définition de la matrice C observée\n",
        "C = np.random.uniform(0, 1,size = (n,n))\n",
        "\n",
        "\n",
        "C[0][0] = 0\n",
        "C[1][1] = 0\n",
        "C[2][2] = 0\n",
        "\n",
        "print(C)\n",
        "\n",
        "A = []\n",
        "b = []\n",
        "for i in range(n):\n",
        "    b.append(1)\n",
        "\n",
        "    A.append(np.array([[1,0,0], [0,0,0], [0,0,0]]))\n",
        "    A.append(np.array([[0,0,0], [0,1,0], [0,0,0]]))\n",
        "    A.append(np.array([[0,0,0], [0,0,0], [0,0,1]]))\n",
        "\n",
        "\n",
        "\n",
        "# Define and solve the CVXPY problem.\n",
        "# Create a symmetric matrix variable.\n",
        "X = cp.Variable((n,n), symmetric=True)\n",
        "# The operator >> denotes matrix inequality.\n",
        "constraints = [X >> 0]\n",
        "constraints += [\n",
        "    cp.trace(A[i] @ X) == b[i] for i in range(n)\n",
        "]\n",
        "prob = cp.Problem(cp.Minimize(cp.trace((C - l*J3) @ X)),\n",
        "                  constraints)\n",
        "prob.solve()\n",
        "\n",
        "# Print result.\n",
        "print(\"The optimal value is\", prob.value)\n",
        "print(\"A solution X is\")\n",
        "print(X.value)"
      ],
      "metadata": {
        "colab": {
          "base_uri": "https://localhost:8080/"
        },
        "id": "k_NKMx0sYOn7",
        "outputId": "9ff826fa-3a75-4f2c-d077-bb6353b9966a"
      },
      "execution_count": 62,
      "outputs": [
        {
          "output_type": "stream",
          "name": "stdout",
          "text": [
            "[[0.         0.30233257 0.14675589]\n",
            " [0.09233859 0.         0.34556073]\n",
            " [0.39676747 0.53881673 0.        ]]\n",
            "The optimal value is -7.177427848075446\n",
            "A solution X is\n",
            "[[1.         0.999999   0.99999862]\n",
            " [0.999999   1.         1.0000031 ]\n",
            " [0.99999862 1.0000031  1.        ]]\n"
          ]
        }
      ]
    }
  ]
}