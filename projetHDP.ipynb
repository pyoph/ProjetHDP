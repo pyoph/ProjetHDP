{
  "nbformat": 4,
  "nbformat_minor": 0,
  "metadata": {
    "colab": {
      "provenance": [],
      "authorship_tag": "ABX9TyNcEx6puiObQLDPtIikUTHp",
      "include_colab_link": true
    },
    "kernelspec": {
      "name": "python3",
      "display_name": "Python 3"
    },
    "language_info": {
      "name": "python"
    }
  },
  "cells": [
    {
      "cell_type": "markdown",
      "metadata": {
        "id": "view-in-github",
        "colab_type": "text"
      },
      "source": [
        "<a href=\"https://colab.research.google.com/github/pyoph/ProjetHDP/blob/main/projetHDP.ipynb\" target=\"_parent\"><img src=\"https://colab.research.google.com/assets/colab-badge.svg\" alt=\"Open In Colab\"/></a>"
      ]
    },
    {
      "cell_type": "code",
      "execution_count": 2,
      "metadata": {
        "id": "Ap61wX_9YFix"
      },
      "outputs": [],
      "source": [
        "import cvxpy as cp\n",
        "import numpy as np\n",
        "import matplotlib.pyplot as plt\n",
        "import scipy.optimize as scp\n"
      ]
    },
    {
      "cell_type": "code",
      "source": [
        "#Paramètres\n",
        "\n",
        "np.random.seed(1)\n",
        "\n",
        "n = 10 #Petites valeurs de n pour commencer\n",
        "\n",
        "#Définitions des seuils p = a/n > q= b/n (a-b)^2 >= epsilon^(-2) 484 *g (1) thm 1.3 p5 (voir après pour les valeurs de a et b qui satisfont (1))\n",
        "p = 0.83\n",
        "q = 0.06\n",
        "l = 0\n",
        "\n",
        "\n",
        "Jn = np.ones((n,n))\n",
        "#Définition de la matrice Z à estimer\n",
        "\n",
        "Z = np.random.choice([0, 1], size=(n, n))\n",
        "\n",
        "for i in range(n) :\n",
        "  for j in range(n) :\n",
        "    Z[i][j] = Z[j][i]\n",
        "\n",
        "for i in range(n) :\n",
        "  Z[i][i] = 1\n",
        "\n",
        "\n",
        "\n",
        "\n",
        "#Tuning parameter\n",
        "\n",
        "for i in range(n) :\n",
        "  for j in range(n) :\n",
        "    l += Z[i][j]\n",
        "\n",
        "\n",
        "\n",
        "#Calcul de la matrice d'adjacence à partir des tirages de p et de q\n",
        "A = np.zeros((n,n))\n",
        "\n",
        "#Définition de la matrice A observée (peut être choisir ensuite pij selon la valeur de pbarre)\n",
        "\n",
        "for i in range(n):\n",
        "  for j in range(n) :\n",
        "    if (Z[i][j] == 0) :\n",
        "      A[i][j] = np.random.choice([0,1],p = [1 -p,p])\n",
        "      A[i][j] = A[j][i]\n",
        "    else :\n",
        "      A[i][j] = np.random.choice([0,1],p = [1 -q,q])\n",
        "      A[i][j] = A[j][i]\n",
        "\n",
        "\n",
        "#Matrice de référence E(A) = (p+q)Jn (voir après pour rajouter une matrice de pij ?)\n",
        "\n",
        "R = (p+q)*np.ones((n,n))\n",
        "\n",
        "\n",
        "C = []\n",
        "b = []\n",
        "for i in range(n):\n",
        "    b.append(1)\n",
        "\n",
        "\n",
        "\n",
        "# Define and solve the CVXPY problem.\n",
        "# Create a symmetric matrix variable.\n",
        "X = cp.Variable((n,n), symmetric=True)\n",
        "# The operator >> denotes matrix inequality.\n",
        "constraints = [X >> 0]\n",
        "#constraints += [\n",
        "#    cp.trace(C[i] @ X) <= b[i] for i in range(n)\n",
        "#]\n",
        "constraints += [\n",
        "    cp.diag(X) <= np.ones(n)\n",
        "]\n",
        "\n",
        "\n",
        "constraints += [\n",
        "    cp.sum(X) == l\n",
        "]\n",
        "\n",
        "\n",
        "\n"
      ],
      "metadata": {
        "id": "k_NKMx0sYOn7"
      },
      "execution_count": 4,
      "outputs": []
    },
    {
      "cell_type": "code",
      "source": [
        "#Optimisation avec le solver CVXPY sur le problème 6.2 p 19 (E(A) au lieu de A)\n",
        "\n",
        "\n",
        "def optimisationCVXref(p,q) :\n",
        "  A  = np.zeros((n,n))\n",
        "\n",
        "  #Recalcul de R\n",
        "  R = (p+q)*np.ones((n,n))\n",
        "  constraints = [X >> 0]\n",
        "\n",
        "  constraints += [\n",
        "    cp.diag(X) <= np.ones(n)\n",
        "  ]\n",
        "\n",
        "\n",
        "\n",
        "  constraints += [\n",
        "    cp.sum(X) == l\n",
        "  ]\n",
        "\n",
        "\n",
        "  prob = cp.Problem(cp.Minimize(cp.trace(R @ X)),constraints)\n",
        "  prob.solve()\n",
        "  return X.value\n"
      ],
      "metadata": {
        "id": "8sd23CDLajOj"
      },
      "execution_count": 23,
      "outputs": []
    },
    {
      "cell_type": "code",
      "source": [
        "#Optimisation avec le solver CVXPY sur le problème 1.10 p\n",
        "\n",
        "#Essai pour une valeur de p et de q\n",
        "prob = cp.Problem(cp.Minimize(cp.trace(A @ X)),constraints)\n",
        "prob.solve()\n",
        "\n",
        "# Print result.\n",
        "print(\"The optimal value is\", prob.value)\n",
        "print(\"A solution X is\")\n",
        "print(X.value)\n",
        "print(Z)\n",
        "def optimisationCVX(p,q) :\n",
        "  A  = np.zeros((n,n))\n",
        "\n",
        "#Définition de la matrice A observée\n",
        "\n",
        "  for i in range(n):\n",
        "    for j in range(n) :\n",
        "      if (Z[i][j] == 0) : A[i][j] = np.random.choice([0,1],p = [1 -p,p])\n",
        "      else : A[i][j] = np.random.choice([0,1],p = [1 -q,q])\n",
        "      A[i][j] = A[j][i]\n",
        "  X = cp.Variable((n,n), symmetric=True)\n",
        "# The operator >> denotes matrix inequality.\n",
        "  constraints = [X >> 0]\n",
        "#constraints += [\n",
        "#    cp.trace(C[i] @ X) <= b[i] for i in range(n)\n",
        "#]\n",
        "  constraints += [\n",
        "    cp.diag(X) <= np.ones(n)\n",
        "  ]\n",
        "\n",
        "\n",
        "  constraints += [\n",
        "    cp.sum(X) == l\n",
        "  ]\n",
        "\n",
        "\n",
        "  prob = cp.Problem(cp.Minimize(cp.trace(A @ X)),constraints2)\n",
        "  prob.solve()\n",
        "  return X.value\n",
        "\n",
        "\n"
      ],
      "metadata": {
        "id": "kXcmYqDLxsgg",
        "colab": {
          "base_uri": "https://localhost:8080/"
        },
        "outputId": "e7f09ff5-a655-4475-b0e7-cf9cc6740587"
      },
      "execution_count": 24,
      "outputs": [
        {
          "output_type": "stream",
          "name": "stdout",
          "text": [
            "The optimal value is 0.0\n",
            "A solution X is\n",
            "[[0.78947163 0.57894758 0.57894758 0.57894758 0.57894758 0.57894758\n",
            "  0.57894758 0.57894758 0.57894758 0.57894758]\n",
            " [0.57894758 0.78947163 0.57894758 0.57894758 0.57894758 0.57894758\n",
            "  0.57894758 0.57894758 0.57894758 0.57894758]\n",
            " [0.57894758 0.57894758 0.78947163 0.57894758 0.57894758 0.57894758\n",
            "  0.57894758 0.57894758 0.57894758 0.57894758]\n",
            " [0.57894758 0.57894758 0.57894758 0.78947163 0.57894758 0.57894758\n",
            "  0.57894758 0.57894758 0.57894758 0.57894758]\n",
            " [0.57894758 0.57894758 0.57894758 0.57894758 0.78947163 0.57894758\n",
            "  0.57894758 0.57894758 0.57894758 0.57894758]\n",
            " [0.57894758 0.57894758 0.57894758 0.57894758 0.57894758 0.78947163\n",
            "  0.57894758 0.57894758 0.57894758 0.57894758]\n",
            " [0.57894758 0.57894758 0.57894758 0.57894758 0.57894758 0.57894758\n",
            "  0.78947163 0.57894758 0.57894758 0.57894758]\n",
            " [0.57894758 0.57894758 0.57894758 0.57894758 0.57894758 0.57894758\n",
            "  0.57894758 0.78947163 0.57894758 0.57894758]\n",
            " [0.57894758 0.57894758 0.57894758 0.57894758 0.57894758 0.57894758\n",
            "  0.57894758 0.57894758 0.78947163 0.57894758]\n",
            " [0.57894758 0.57894758 0.57894758 0.57894758 0.57894758 0.57894758\n",
            "  0.57894758 0.57894758 0.57894758 0.78947163]]\n",
            "[[1 0 0 0 1 0 0 1 1 0]\n",
            " [0 1 1 0 1 1 1 1 0 0]\n",
            " [0 1 1 1 1 0 1 0 0 1]\n",
            " [0 0 1 1 1 0 0 0 1 1]\n",
            " [1 1 1 1 1 1 1 0 1 1]\n",
            " [0 1 0 0 1 1 1 0 0 0]\n",
            " [0 1 1 0 1 1 1 1 1 1]\n",
            " [1 1 0 0 0 0 1 1 1 1]\n",
            " [1 0 0 1 1 0 1 1 1 0]\n",
            " [0 0 1 1 1 0 1 1 0 1]]\n"
          ]
        }
      ]
    },
    {
      "cell_type": "code",
      "source": [
        "#Boucle sur les valeurs de a/n à 1 sur le problème 6.2 p19\n",
        "a=9\n",
        "#optimisationCVX(0.86,0.004)\n",
        "liste1 = np.linspace(a/n, 1, 100)\n",
        "m = len(liste1)\n",
        "erreurs = np.zeros(m)\n",
        "i = 0\n",
        "\n",
        "for p in liste1 :\n",
        "  erreurs[i] = np.linalg.norm(optimisationCVXref(p,q)-Z,\"fro\")\n",
        "  i = i+1\n"
      ],
      "metadata": {
        "id": "s-UQD6AgbQ4c"
      },
      "execution_count": 25,
      "outputs": []
    },
    {
      "cell_type": "code",
      "source": [
        "#Représentation graphique\n",
        "plt.figure(figsize=(17,5))\n",
        "plt.subplot(2, 1, 1)\n",
        "plt.plot(liste1, erreurs)\n",
        "plt.xlabel('p')\n",
        "plt.ylabel(\"Erreurs\")\n",
        "plt.title(\"Evolution de l'erreur en fonction de p\")"
      ],
      "metadata": {
        "colab": {
          "base_uri": "https://localhost:8080/",
          "height": 294
        },
        "id": "OKZkXnHSbZvn",
        "outputId": "eaf07d46-b75a-4848-9d31-2210f563855d"
      },
      "execution_count": 26,
      "outputs": [
        {
          "output_type": "execute_result",
          "data": {
            "text/plain": [
              "Text(0.5, 1.0, \"Evolution de l'erreur en fonction de p\")"
            ]
          },
          "metadata": {},
          "execution_count": 26
        },
        {
          "output_type": "display_data",
          "data": {
            "text/plain": [
              "<Figure size 1700x500 with 1 Axes>"
            ],
            "image/png": "[encoded data removed]"
          },
          "metadata": {}
        }
      ]
    },
    {
      "cell_type": "code",
      "source": [
        "#Boucle sur les valeurs de a/n à 1 sur le problème 1.10 p4\n",
        "a=9\n",
        "#optimisationCVX(0.86,0.004)\n",
        "liste1 = np.linspace(a/n, 1, 100)\n",
        "m = len(liste1)\n",
        "erreurs = np.zeros(m)\n",
        "i = 0\n",
        "\n",
        "for p in liste1 :\n",
        "  erreurs[i] = np.linalg.norm(optimisationCVX(p,q)-Z,\"fro\")\n",
        "  i = i+1\n",
        "\n"
      ],
      "metadata": {
        "id": "2KneBjCD1NJb"
      },
      "execution_count": 13,
      "outputs": []
    },
    {
      "cell_type": "code",
      "source": [
        "plt.figure(figsize=(17,5))\n",
        "plt.subplot(2, 1, 1)\n",
        "plt.plot(liste1, erreurs)\n",
        "plt.xlabel('p')\n",
        "plt.ylabel(\"Erreurs\")\n",
        "plt.title(\"Evolution de l'erreur en fonction de p\")"
      ],
      "metadata": {
        "colab": {
          "base_uri": "https://localhost:8080/",
          "height": 294
        },
        "id": "f7GN6hQR5-Yr",
        "outputId": "44a3ffeb-1bca-4968-a698-db980543cda5"
      },
      "execution_count": 14,
      "outputs": [
        {
          "output_type": "execute_result",
          "data": {
            "text/plain": [
              "Text(0.5, 1.0, \"Evolution de l'erreur en fonction de p\")"
            ]
          },
          "metadata": {},
          "execution_count": 14
        },
        {
          "output_type": "display_data",
          "data": {
            "text/plain": [
              "<Figure size 1700x500 with 1 Axes>"
            ],
            "image/png": "[encoded data removed]"
          },
          "metadata": {}
        }
      ]
    },
    {
      "cell_type": "code",
      "source": [],
      "metadata": {
        "id": "oV6tAN-X3q_a"
      },
      "execution_count": null,
      "outputs": []
    },
    {
      "cell_type": "code",
      "source": [
        "#Calculs précédents insérés dans une fonction\n",
        "MAX_ITERS = 100\n",
        "\n",
        "def caculeVecteurXioptimal(i) :\n",
        "  x = cp.Variable(shape=n)\n",
        "  f = cp.matmul(cp.transpose(A)[i,:], x)\n",
        "  # Constraints\n",
        "  constraints2 = [\n",
        "\n",
        "    cp.sum(x) <= l\n",
        "   ]\n",
        "\n",
        "\n",
        "\n",
        "  M = np.zeros((n,n))\n",
        "  M[i][i] = 1\n",
        "\n",
        "  b = cp.Parameter(shape = (n))\n",
        "  b.value = np.zeros(n)\n",
        "  b.value[0] = 1\n",
        "\n",
        "  # Solve with method of multipliers.\n",
        "  resid = cp.matmul(M, x) - b\n",
        "  y = cp.Parameter(shape=(n))\n",
        "  y.value = np.zeros(n)\n",
        "\n",
        "  # Augmented Lagrangian\n",
        "  aug_lagr = f + cp.matmul(cp.transpose(y), resid) + (rho/2) * cp.sum_squares(resid)\n",
        "\n",
        "  for t in range(MAX_ITERS):\n",
        "    problem_multipliers = cp.Problem(cp.Minimize(aug_lagr),constraints2)\n",
        "    problem_multipliers.solve()\n",
        "\n",
        "    # Check if the problem is feasible\n",
        "    if problem_multipliers.status not in [cp.OPTIMAL, cp.OPTIMAL_INACCURATE]:\n",
        "        print(\"The problem is not feasible.\")\n",
        "        break\n",
        "    print(\"resid:\", resid)\n",
        "    # Update Lagrange multiplier\n",
        "    y.value += rho * (resid.value if resid.value is not None else np.zeros(n))\n",
        "\n",
        "# Get the optimal solution\n",
        "  optimal_x = x.value\n",
        "  return optimal_x\n",
        "\n",
        "optimal_x = caculeVecteurXioptimal(1)\n",
        "print(\"Optimal x from method of multipliers: {}\".format(optimal_x))\n"
      ],
      "metadata": {
        "colab": {
          "base_uri": "https://localhost:8080/"
        },
        "id": "TwKINtkAb0oK",
        "outputId": "da663379-c936-4cec-cd60-c73a79ee4422"
      },
      "execution_count": null,
      "outputs": [
        {
          "output_type": "stream",
          "name": "stdout",
          "text": [
            "The problem is not feasible.\n",
            "Optimal x from method of multipliers: None\n"
          ]
        },
        {
          "output_type": "stream",
          "name": "stderr",
          "text": [
            "/usr/local/lib/python3.10/dist-packages/cvxpy/reductions/solvers/solving_chain.py:213: UserWarning: You are solving a parameterized problem that is not DPP. Because the problem is not DPP, subsequent solves will not be faster than the first one. For more information, see the documentation on Discplined Parametrized Programming, at\n",
            "\thttps://www.cvxpy.org/tutorial/advanced/index.html#disciplined-parametrized-programming\n",
            "  warnings.warn(dpp_error_msg)\n"
          ]
        }
      ]
    },
    {
      "cell_type": "code",
      "source": [
        "#Calculs avec scipy\n",
        "results = []\n",
        "rho = 1\n",
        "def calculate_optimal_x(i):\n",
        "    # Initialisation de la variable\n",
        "    z = np.ones(n)\n",
        "\n",
        "    # Initialisation du multiplicateur de Lagrange\n",
        "    y = np.zeros(n)\n",
        "\n",
        "    # Matrice M\n",
        "    M = np.zeros((n, n))\n",
        "    M[i][i] = 1\n",
        "\n",
        "\n",
        "    # Contraintes du problème primaire\n",
        "    constraints = [\n",
        "\n",
        "        {'type': 'eq', 'fun': lambda x: -np.sum(x) + l},\n",
        "\n",
        "\n",
        "        {'type': 'ineq', 'fun': lambda x: x}\n",
        "    ]\n",
        "    resid = M@z - b\n",
        "    objective = lambda z : np.dot(A[:, i],z) + np.dot(y, resid) + (rho / 2) * np.sum(resid**2)\n",
        "    xold = np.zeros(n)\n",
        "    for t in range(n):\n",
        "\n",
        "\n",
        "        # Mise à jour de la variable optimale\n",
        "\n",
        "        xopt = scp.minimize(objective, xold, constraints=constraints).x\n",
        "\n",
        "        y +=  rho * resid\n",
        "        results.append(xopt)\n",
        "        print(xopt)\n",
        "        xold = xopt\n",
        "    return results\n",
        "\n",
        "\n",
        "\n"
      ],
      "metadata": {
        "id": "JC72y1xcta47"
      },
      "execution_count": null,
      "outputs": []
    },
    {
      "cell_type": "code",
      "source": [
        "calculate_optimal_x(1)"
      ],
      "metadata": {
        "colab": {
          "base_uri": "https://localhost:8080/"
        },
        "id": "6x9XSY8yZA9x",
        "outputId": "17c0fc58-c464-4e9d-d4ab-e00deda73761"
      },
      "execution_count": null,
      "outputs": [
        {
          "output_type": "stream",
          "name": "stdout",
          "text": [
            "[ 8.14285714e+00  8.14285714e+00  8.14285714e+00 -6.41708908e-14\n",
            "  8.14285714e+00  8.14285714e+00  8.14285714e+00  8.14285714e+00\n",
            " -6.47260023e-14 -5.81756865e-14]\n",
            "[ 8.14285714e+00  8.14285714e+00  8.14285714e+00 -6.41708908e-14\n",
            "  8.14285714e+00  8.14285714e+00  8.14285714e+00  8.14285714e+00\n",
            " -6.47260023e-14 -5.81756865e-14]\n",
            "[ 8.14285714e+00  8.14285714e+00  8.14285714e+00 -6.41708908e-14\n",
            "  8.14285714e+00  8.14285714e+00  8.14285714e+00  8.14285714e+00\n",
            " -6.47260023e-14 -5.81756865e-14]\n",
            "[ 8.14285714e+00  8.14285714e+00  8.14285714e+00 -6.41708908e-14\n",
            "  8.14285714e+00  8.14285714e+00  8.14285714e+00  8.14285714e+00\n",
            " -6.47260023e-14 -5.81756865e-14]\n",
            "[ 8.14285714e+00  8.14285714e+00  8.14285714e+00 -6.41708908e-14\n",
            "  8.14285714e+00  8.14285714e+00  8.14285714e+00  8.14285714e+00\n",
            " -6.47260023e-14 -5.81756865e-14]\n",
            "[ 8.14285714e+00  8.14285714e+00  8.14285714e+00 -6.41708908e-14\n",
            "  8.14285714e+00  8.14285714e+00  8.14285714e+00  8.14285714e+00\n",
            " -6.47260023e-14 -5.81756865e-14]\n",
            "[ 8.14285714e+00  8.14285714e+00  8.14285714e+00 -6.41708908e-14\n",
            "  8.14285714e+00  8.14285714e+00  8.14285714e+00  8.14285714e+00\n",
            " -6.47260023e-14 -5.81756865e-14]\n",
            "[ 8.14285714e+00  8.14285714e+00  8.14285714e+00 -6.41708908e-14\n",
            "  8.14285714e+00  8.14285714e+00  8.14285714e+00  8.14285714e+00\n",
            " -6.47260023e-14 -5.81756865e-14]\n",
            "[ 8.14285714e+00  8.14285714e+00  8.14285714e+00 -6.41708908e-14\n",
            "  8.14285714e+00  8.14285714e+00  8.14285714e+00  8.14285714e+00\n",
            " -6.47260023e-14 -5.81756865e-14]\n",
            "[ 8.14285714e+00  8.14285714e+00  8.14285714e+00 -6.41708908e-14\n",
            "  8.14285714e+00  8.14285714e+00  8.14285714e+00  8.14285714e+00\n",
            " -6.47260023e-14 -5.81756865e-14]\n"
          ]
        },
        {
          "output_type": "execute_result",
          "data": {
            "text/plain": [
              "[array([ 8.14285714e+00,  8.14285714e+00,  8.14285714e+00, -6.41708908e-14,\n",
              "         8.14285714e+00,  8.14285714e+00,  8.14285714e+00,  8.14285714e+00,\n",
              "        -6.47260023e-14, -5.81756865e-14]),\n",
              " array([ 8.14285714e+00,  8.14285714e+00,  8.14285714e+00, -6.41708908e-14,\n",
              "         8.14285714e+00,  8.14285714e+00,  8.14285714e+00,  8.14285714e+00,\n",
              "        -6.47260023e-14, -5.81756865e-14]),\n",
              " array([ 8.14285714e+00,  8.14285714e+00,  8.14285714e+00, -6.41708908e-14,\n",
              "         8.14285714e+00,  8.14285714e+00,  8.14285714e+00,  8.14285714e+00,\n",
              "        -6.47260023e-14, -5.81756865e-14]),\n",
              " array([ 8.14285714e+00,  8.14285714e+00,  8.14285714e+00, -6.41708908e-14,\n",
              "         8.14285714e+00,  8.14285714e+00,  8.14285714e+00,  8.14285714e+00,\n",
              "        -6.47260023e-14, -5.81756865e-14]),\n",
              " array([ 8.14285714e+00,  8.14285714e+00,  8.14285714e+00, -6.41708908e-14,\n",
              "         8.14285714e+00,  8.14285714e+00,  8.14285714e+00,  8.14285714e+00,\n",
              "        -6.47260023e-14, -5.81756865e-14]),\n",
              " array([ 8.14285714e+00,  8.14285714e+00,  8.14285714e+00, -6.41708908e-14,\n",
              "         8.14285714e+00,  8.14285714e+00,  8.14285714e+00,  8.14285714e+00,\n",
              "        -6.47260023e-14, -5.81756865e-14]),\n",
              " array([ 8.14285714e+00,  8.14285714e+00,  8.14285714e+00, -6.41708908e-14,\n",
              "         8.14285714e+00,  8.14285714e+00,  8.14285714e+00,  8.14285714e+00,\n",
              "        -6.47260023e-14, -5.81756865e-14]),\n",
              " array([ 8.14285714e+00,  8.14285714e+00,  8.14285714e+00, -6.41708908e-14,\n",
              "         8.14285714e+00,  8.14285714e+00,  8.14285714e+00,  8.14285714e+00,\n",
              "        -6.47260023e-14, -5.81756865e-14]),\n",
              " array([ 8.14285714e+00,  8.14285714e+00,  8.14285714e+00, -6.41708908e-14,\n",
              "         8.14285714e+00,  8.14285714e+00,  8.14285714e+00,  8.14285714e+00,\n",
              "        -6.47260023e-14, -5.81756865e-14]),\n",
              " array([ 8.14285714e+00,  8.14285714e+00,  8.14285714e+00, -6.41708908e-14,\n",
              "         8.14285714e+00,  8.14285714e+00,  8.14285714e+00,  8.14285714e+00,\n",
              "        -6.47260023e-14, -5.81756865e-14])]"
            ]
          },
          "metadata": {},
          "execution_count": 316
        }
      ]
    },
    {
      "cell_type": "code",
      "source": [
        "#Essai d'optimisation à chaque étape avec a et b qui varient"
      ],
      "metadata": {
        "id": "e-YU5eH3b70b"
      },
      "execution_count": null,
      "outputs": []
    },
    {
      "cell_type": "code",
      "source": [
        "#Calcul des résultats à chaque itération\n",
        "for i in range(n) :\n",
        "  results = calculate_optimal_x(i)\n",
        "results\n",
        "\n"
      ],
      "metadata": {
        "colab": {
          "base_uri": "https://localhost:8080/"
        },
        "id": "bD7gJ9IEwil7",
        "outputId": "892d1691-fd75-44c0-d12b-a9c3070792a3"
      },
      "execution_count": null,
      "outputs": [
        {
          "output_type": "stream",
          "name": "stdout",
          "text": [
            "[1.42500000e+01 6.12843110e-14 5.37347944e-14 5.81756865e-14\n",
            " 1.42500000e+01 5.41788836e-14 5.90638649e-14 1.42500000e+01\n",
            " 1.42500000e+01 5.59552404e-14]\n",
            "[1.42500000e+01 6.12843110e-14 5.37347944e-14 5.81756865e-14\n",
            " 1.42500000e+01 5.41788836e-14 5.90638649e-14 1.42500000e+01\n",
            " 1.42500000e+01 5.59552404e-14]\n",
            "[1.42500000e+01 6.12843110e-14 5.37347944e-14 5.81756865e-14\n",
            " 1.42500000e+01 5.41788836e-14 5.90638649e-14 1.42500000e+01\n",
            " 1.42500000e+01 5.59552404e-14]\n",
            "[ 8.14285714e+00  8.14285714e+00  8.14285714e+00 -2.22044605e-16\n",
            "  8.14285714e+00  8.14285714e+00  8.14285714e+00  8.14285714e+00\n",
            " -2.66453526e-15 -3.21964677e-15]\n",
            "[ 8.14285714e+00  8.14285714e+00  8.14285714e+00 -2.22044605e-16\n",
            "  8.14285714e+00  8.14285714e+00  8.14285714e+00  8.14285714e+00\n",
            " -2.66453526e-15 -3.21964677e-15]\n",
            "[ 8.14285714e+00  8.14285714e+00  8.14285714e+00 -2.22044605e-16\n",
            "  8.14285714e+00  8.14285714e+00  8.14285714e+00  8.14285714e+00\n",
            " -2.66453526e-15 -3.21964677e-15]\n",
            "[-2.59792188e-14 -2.62012634e-14  9.50000000e+00  9.50000000e+00\n",
            "  9.50000000e+00 -2.73114864e-14  9.50000000e+00  9.50000000e+00\n",
            " -2.81996648e-14  9.50000000e+00]\n",
            "[-2.59792188e-14 -2.62012634e-14  9.50000000e+00  9.50000000e+00\n",
            "  9.50000000e+00 -2.73114864e-14  9.50000000e+00  9.50000000e+00\n",
            " -2.81996648e-14  9.50000000e+00]\n",
            "[-2.59792188e-14 -2.62012634e-14  9.50000000e+00  9.50000000e+00\n",
            "  9.50000000e+00 -2.73114864e-14  9.50000000e+00  9.50000000e+00\n",
            " -2.81996648e-14  9.50000000e+00]\n",
            "[1.18571819e-13 1.14000000e+01 1.15907284e-13 1.14000000e+01\n",
            " 1.14000000e+01 1.21236354e-13 1.15463195e-13 1.16351373e-13\n",
            " 1.14000000e+01 1.14000000e+01]\n",
            "[1.18571819e-13 1.14000000e+01 1.15907284e-13 1.14000000e+01\n",
            " 1.14000000e+01 1.21236354e-13 1.15463195e-13 1.16351373e-13\n",
            " 1.14000000e+01 1.14000000e+01]\n",
            "[1.18571819e-13 1.14000000e+01 1.15907284e-13 1.14000000e+01\n",
            " 1.14000000e+01 1.21236354e-13 1.15463195e-13 1.16351373e-13\n",
            " 1.14000000e+01 1.14000000e+01]\n",
            "[6.33333333e+00 6.33333333e+00 6.33333333e+00 6.33333333e+00\n",
            " 6.33333333e+00 6.33333333e+00 6.33333333e+00 4.44089210e-16\n",
            " 6.33333333e+00 6.33333333e+00]\n",
            "[6.33333333e+00 6.33333333e+00 6.33333333e+00 6.33333333e+00\n",
            " 6.33333333e+00 6.33333333e+00 6.33333333e+00 4.44089210e-16\n",
            " 6.33333333e+00 6.33333333e+00]\n",
            "[6.33333333e+00 6.33333333e+00 6.33333333e+00 6.33333333e+00\n",
            " 6.33333333e+00 6.33333333e+00 6.33333333e+00 4.44089210e-16\n",
            " 6.33333333e+00 6.33333333e+00]\n",
            "[1.14000000e+01 2.23820962e-13 2.23820962e-13 1.14000000e+01\n",
            " 1.14000000e+01 1.14000000e+01 1.14000000e+01 2.22044605e-13\n",
            " 2.23820962e-13 2.23376873e-13]\n",
            "[1.14000000e+01 2.23820962e-13 2.23820962e-13 1.14000000e+01\n",
            " 1.14000000e+01 1.14000000e+01 1.14000000e+01 2.22044605e-13\n",
            " 2.23820962e-13 2.23376873e-13]\n",
            "[1.14000000e+01 2.23820962e-13 2.23820962e-13 1.14000000e+01\n",
            " 1.14000000e+01 1.14000000e+01 1.14000000e+01 2.22044605e-13\n",
            " 2.23820962e-13 2.23376873e-13]\n",
            "[ 8.14285714e+00 -3.66373598e-14 -3.68594044e-14  8.14285714e+00\n",
            " -3.67483821e-14  8.14285714e+00  8.14285714e+00  8.14285714e+00\n",
            "  8.14285714e+00  8.14285714e+00]\n",
            "[ 8.14285714e+00 -3.66373598e-14 -3.68594044e-14  8.14285714e+00\n",
            " -3.67483821e-14  8.14285714e+00  8.14285714e+00  8.14285714e+00\n",
            "  8.14285714e+00  8.14285714e+00]\n",
            "[ 8.14285714e+00 -3.66373598e-14 -3.68594044e-14  8.14285714e+00\n",
            " -3.67483821e-14  8.14285714e+00  8.14285714e+00  8.14285714e+00\n",
            "  8.14285714e+00  8.14285714e+00]\n",
            "[ 8.14285714e+00  8.14285714e+00 -1.08912879e-13 -1.13575815e-13\n",
            "  8.14285714e+00 -1.09467990e-13  8.14285714e+00  8.14285714e+00\n",
            "  8.14285714e+00  8.14285714e+00]\n",
            "[ 8.14285714e+00  8.14285714e+00 -1.08912879e-13 -1.13575815e-13\n",
            "  8.14285714e+00 -1.09467990e-13  8.14285714e+00  8.14285714e+00\n",
            "  8.14285714e+00  8.14285714e+00]\n",
            "[ 8.14285714e+00  8.14285714e+00 -1.08912879e-13 -1.13575815e-13\n",
            "  8.14285714e+00 -1.09467990e-13  8.14285714e+00  8.14285714e+00\n",
            "  8.14285714e+00  8.14285714e+00]\n",
            "[9.50000000e+00 1.07247544e-13 9.50000000e+00 1.09690035e-13\n",
            " 9.50000000e+00 9.50000000e+00 1.06359366e-13 9.50000000e+00\n",
            " 9.50000000e+00 1.05249143e-13]\n",
            "[9.50000000e+00 1.07247544e-13 9.50000000e+00 1.09690035e-13\n",
            " 9.50000000e+00 9.50000000e+00 1.06359366e-13 9.50000000e+00\n",
            " 9.50000000e+00 1.05249143e-13]\n",
            "[9.50000000e+00 1.07247544e-13 9.50000000e+00 1.09690035e-13\n",
            " 9.50000000e+00 9.50000000e+00 1.06359366e-13 9.50000000e+00\n",
            " 9.50000000e+00 1.05249143e-13]\n",
            "[-1.42108547e-14 -8.88178420e-15 -1.42108547e-14 -1.15463195e-14\n",
            " -1.24344979e-14 -9.76996262e-15 -1.24344979e-14 -9.76996262e-15\n",
            "  2.85000000e+01  2.85000000e+01]\n",
            "[-1.42108547e-14 -8.88178420e-15 -1.42108547e-14 -1.15463195e-14\n",
            " -1.24344979e-14 -9.76996262e-15 -1.24344979e-14 -9.76996262e-15\n",
            "  2.85000000e+01  2.85000000e+01]\n",
            "[-1.42108547e-14 -8.88178420e-15 -1.42108547e-14 -1.15463195e-14\n",
            " -1.24344979e-14 -9.76996262e-15 -1.24344979e-14 -9.76996262e-15\n",
            "  2.85000000e+01  2.85000000e+01]\n"
          ]
        },
        {
          "output_type": "execute_result",
          "data": {
            "text/plain": [
              "[array([1.42500000e+01, 6.12843110e-14, 5.37347944e-14, 5.81756865e-14,\n",
              "        1.42500000e+01, 5.41788836e-14, 5.90638649e-14, 1.42500000e+01,\n",
              "        1.42500000e+01, 5.59552404e-14]),\n",
              " array([1.42500000e+01, 6.12843110e-14, 5.37347944e-14, 5.81756865e-14,\n",
              "        1.42500000e+01, 5.41788836e-14, 5.90638649e-14, 1.42500000e+01,\n",
              "        1.42500000e+01, 5.59552404e-14]),\n",
              " array([1.42500000e+01, 6.12843110e-14, 5.37347944e-14, 5.81756865e-14,\n",
              "        1.42500000e+01, 5.41788836e-14, 5.90638649e-14, 1.42500000e+01,\n",
              "        1.42500000e+01, 5.59552404e-14]),\n",
              " array([ 8.14285714e+00,  8.14285714e+00,  8.14285714e+00, -2.22044605e-16,\n",
              "         8.14285714e+00,  8.14285714e+00,  8.14285714e+00,  8.14285714e+00,\n",
              "        -2.66453526e-15, -3.21964677e-15]),\n",
              " array([ 8.14285714e+00,  8.14285714e+00,  8.14285714e+00, -2.22044605e-16,\n",
              "         8.14285714e+00,  8.14285714e+00,  8.14285714e+00,  8.14285714e+00,\n",
              "        -2.66453526e-15, -3.21964677e-15]),\n",
              " array([ 8.14285714e+00,  8.14285714e+00,  8.14285714e+00, -2.22044605e-16,\n",
              "         8.14285714e+00,  8.14285714e+00,  8.14285714e+00,  8.14285714e+00,\n",
              "        -2.66453526e-15, -3.21964677e-15]),\n",
              " array([-2.59792188e-14, -2.62012634e-14,  9.50000000e+00,  9.50000000e+00,\n",
              "         9.50000000e+00, -2.73114864e-14,  9.50000000e+00,  9.50000000e+00,\n",
              "        -2.81996648e-14,  9.50000000e+00]),\n",
              " array([-2.59792188e-14, -2.62012634e-14,  9.50000000e+00,  9.50000000e+00,\n",
              "         9.50000000e+00, -2.73114864e-14,  9.50000000e+00,  9.50000000e+00,\n",
              "        -2.81996648e-14,  9.50000000e+00]),\n",
              " array([-2.59792188e-14, -2.62012634e-14,  9.50000000e+00,  9.50000000e+00,\n",
              "         9.50000000e+00, -2.73114864e-14,  9.50000000e+00,  9.50000000e+00,\n",
              "        -2.81996648e-14,  9.50000000e+00]),\n",
              " array([1.18571819e-13, 1.14000000e+01, 1.15907284e-13, 1.14000000e+01,\n",
              "        1.14000000e+01, 1.21236354e-13, 1.15463195e-13, 1.16351373e-13,\n",
              "        1.14000000e+01, 1.14000000e+01]),\n",
              " array([1.18571819e-13, 1.14000000e+01, 1.15907284e-13, 1.14000000e+01,\n",
              "        1.14000000e+01, 1.21236354e-13, 1.15463195e-13, 1.16351373e-13,\n",
              "        1.14000000e+01, 1.14000000e+01]),\n",
              " array([1.18571819e-13, 1.14000000e+01, 1.15907284e-13, 1.14000000e+01,\n",
              "        1.14000000e+01, 1.21236354e-13, 1.15463195e-13, 1.16351373e-13,\n",
              "        1.14000000e+01, 1.14000000e+01]),\n",
              " array([6.33333333e+00, 6.33333333e+00, 6.33333333e+00, 6.33333333e+00,\n",
              "        6.33333333e+00, 6.33333333e+00, 6.33333333e+00, 4.44089210e-16,\n",
              "        6.33333333e+00, 6.33333333e+00]),\n",
              " array([6.33333333e+00, 6.33333333e+00, 6.33333333e+00, 6.33333333e+00,\n",
              "        6.33333333e+00, 6.33333333e+00, 6.33333333e+00, 4.44089210e-16,\n",
              "        6.33333333e+00, 6.33333333e+00]),\n",
              " array([6.33333333e+00, 6.33333333e+00, 6.33333333e+00, 6.33333333e+00,\n",
              "        6.33333333e+00, 6.33333333e+00, 6.33333333e+00, 4.44089210e-16,\n",
              "        6.33333333e+00, 6.33333333e+00]),\n",
              " array([1.14000000e+01, 2.23820962e-13, 2.23820962e-13, 1.14000000e+01,\n",
              "        1.14000000e+01, 1.14000000e+01, 1.14000000e+01, 2.22044605e-13,\n",
              "        2.23820962e-13, 2.23376873e-13]),\n",
              " array([1.14000000e+01, 2.23820962e-13, 2.23820962e-13, 1.14000000e+01,\n",
              "        1.14000000e+01, 1.14000000e+01, 1.14000000e+01, 2.22044605e-13,\n",
              "        2.23820962e-13, 2.23376873e-13]),\n",
              " array([1.14000000e+01, 2.23820962e-13, 2.23820962e-13, 1.14000000e+01,\n",
              "        1.14000000e+01, 1.14000000e+01, 1.14000000e+01, 2.22044605e-13,\n",
              "        2.23820962e-13, 2.23376873e-13]),\n",
              " array([ 8.14285714e+00, -3.66373598e-14, -3.68594044e-14,  8.14285714e+00,\n",
              "        -3.67483821e-14,  8.14285714e+00,  8.14285714e+00,  8.14285714e+00,\n",
              "         8.14285714e+00,  8.14285714e+00]),\n",
              " array([ 8.14285714e+00, -3.66373598e-14, -3.68594044e-14,  8.14285714e+00,\n",
              "        -3.67483821e-14,  8.14285714e+00,  8.14285714e+00,  8.14285714e+00,\n",
              "         8.14285714e+00,  8.14285714e+00]),\n",
              " array([ 8.14285714e+00, -3.66373598e-14, -3.68594044e-14,  8.14285714e+00,\n",
              "        -3.67483821e-14,  8.14285714e+00,  8.14285714e+00,  8.14285714e+00,\n",
              "         8.14285714e+00,  8.14285714e+00]),\n",
              " array([ 8.14285714e+00,  8.14285714e+00, -1.08912879e-13, -1.13575815e-13,\n",
              "         8.14285714e+00, -1.09467990e-13,  8.14285714e+00,  8.14285714e+00,\n",
              "         8.14285714e+00,  8.14285714e+00]),\n",
              " array([ 8.14285714e+00,  8.14285714e+00, -1.08912879e-13, -1.13575815e-13,\n",
              "         8.14285714e+00, -1.09467990e-13,  8.14285714e+00,  8.14285714e+00,\n",
              "         8.14285714e+00,  8.14285714e+00]),\n",
              " array([ 8.14285714e+00,  8.14285714e+00, -1.08912879e-13, -1.13575815e-13,\n",
              "         8.14285714e+00, -1.09467990e-13,  8.14285714e+00,  8.14285714e+00,\n",
              "         8.14285714e+00,  8.14285714e+00]),\n",
              " array([9.50000000e+00, 1.07247544e-13, 9.50000000e+00, 1.09690035e-13,\n",
              "        9.50000000e+00, 9.50000000e+00, 1.06359366e-13, 9.50000000e+00,\n",
              "        9.50000000e+00, 1.05249143e-13]),\n",
              " array([9.50000000e+00, 1.07247544e-13, 9.50000000e+00, 1.09690035e-13,\n",
              "        9.50000000e+00, 9.50000000e+00, 1.06359366e-13, 9.50000000e+00,\n",
              "        9.50000000e+00, 1.05249143e-13]),\n",
              " array([9.50000000e+00, 1.07247544e-13, 9.50000000e+00, 1.09690035e-13,\n",
              "        9.50000000e+00, 9.50000000e+00, 1.06359366e-13, 9.50000000e+00,\n",
              "        9.50000000e+00, 1.05249143e-13]),\n",
              " array([-1.42108547e-14, -8.88178420e-15, -1.42108547e-14, -1.15463195e-14,\n",
              "        -1.24344979e-14, -9.76996262e-15, -1.24344979e-14, -9.76996262e-15,\n",
              "         2.85000000e+01,  2.85000000e+01]),\n",
              " array([-1.42108547e-14, -8.88178420e-15, -1.42108547e-14, -1.15463195e-14,\n",
              "        -1.24344979e-14, -9.76996262e-15, -1.24344979e-14, -9.76996262e-15,\n",
              "         2.85000000e+01,  2.85000000e+01]),\n",
              " array([-1.42108547e-14, -8.88178420e-15, -1.42108547e-14, -1.15463195e-14,\n",
              "        -1.24344979e-14, -9.76996262e-15, -1.24344979e-14, -9.76996262e-15,\n",
              "         2.85000000e+01,  2.85000000e+01]),\n",
              " array([1.42500000e+01, 6.12843110e-14, 5.37347944e-14, 5.81756865e-14,\n",
              "        1.42500000e+01, 5.41788836e-14, 5.90638649e-14, 1.42500000e+01,\n",
              "        1.42500000e+01, 5.59552404e-14]),\n",
              " array([1.42500000e+01, 6.12843110e-14, 5.37347944e-14, 5.81756865e-14,\n",
              "        1.42500000e+01, 5.41788836e-14, 5.90638649e-14, 1.42500000e+01,\n",
              "        1.42500000e+01, 5.59552404e-14]),\n",
              " array([1.42500000e+01, 6.12843110e-14, 5.37347944e-14, 5.81756865e-14,\n",
              "        1.42500000e+01, 5.41788836e-14, 5.90638649e-14, 1.42500000e+01,\n",
              "        1.42500000e+01, 5.59552404e-14]),\n",
              " array([ 8.14285714e+00,  8.14285714e+00,  8.14285714e+00, -2.22044605e-16,\n",
              "         8.14285714e+00,  8.14285714e+00,  8.14285714e+00,  8.14285714e+00,\n",
              "        -2.66453526e-15, -3.21964677e-15]),\n",
              " array([ 8.14285714e+00,  8.14285714e+00,  8.14285714e+00, -2.22044605e-16,\n",
              "         8.14285714e+00,  8.14285714e+00,  8.14285714e+00,  8.14285714e+00,\n",
              "        -2.66453526e-15, -3.21964677e-15]),\n",
              " array([ 8.14285714e+00,  8.14285714e+00,  8.14285714e+00, -2.22044605e-16,\n",
              "         8.14285714e+00,  8.14285714e+00,  8.14285714e+00,  8.14285714e+00,\n",
              "        -2.66453526e-15, -3.21964677e-15]),\n",
              " array([-2.59792188e-14, -2.62012634e-14,  9.50000000e+00,  9.50000000e+00,\n",
              "         9.50000000e+00, -2.73114864e-14,  9.50000000e+00,  9.50000000e+00,\n",
              "        -2.81996648e-14,  9.50000000e+00]),\n",
              " array([-2.59792188e-14, -2.62012634e-14,  9.50000000e+00,  9.50000000e+00,\n",
              "         9.50000000e+00, -2.73114864e-14,  9.50000000e+00,  9.50000000e+00,\n",
              "        -2.81996648e-14,  9.50000000e+00]),\n",
              " array([-2.59792188e-14, -2.62012634e-14,  9.50000000e+00,  9.50000000e+00,\n",
              "         9.50000000e+00, -2.73114864e-14,  9.50000000e+00,  9.50000000e+00,\n",
              "        -2.81996648e-14,  9.50000000e+00]),\n",
              " array([1.18571819e-13, 1.14000000e+01, 1.15907284e-13, 1.14000000e+01,\n",
              "        1.14000000e+01, 1.21236354e-13, 1.15463195e-13, 1.16351373e-13,\n",
              "        1.14000000e+01, 1.14000000e+01]),\n",
              " array([1.18571819e-13, 1.14000000e+01, 1.15907284e-13, 1.14000000e+01,\n",
              "        1.14000000e+01, 1.21236354e-13, 1.15463195e-13, 1.16351373e-13,\n",
              "        1.14000000e+01, 1.14000000e+01]),\n",
              " array([1.18571819e-13, 1.14000000e+01, 1.15907284e-13, 1.14000000e+01,\n",
              "        1.14000000e+01, 1.21236354e-13, 1.15463195e-13, 1.16351373e-13,\n",
              "        1.14000000e+01, 1.14000000e+01]),\n",
              " array([6.33333333e+00, 6.33333333e+00, 6.33333333e+00, 6.33333333e+00,\n",
              "        6.33333333e+00, 6.33333333e+00, 6.33333333e+00, 4.44089210e-16,\n",
              "        6.33333333e+00, 6.33333333e+00]),\n",
              " array([6.33333333e+00, 6.33333333e+00, 6.33333333e+00, 6.33333333e+00,\n",
              "        6.33333333e+00, 6.33333333e+00, 6.33333333e+00, 4.44089210e-16,\n",
              "        6.33333333e+00, 6.33333333e+00]),\n",
              " array([6.33333333e+00, 6.33333333e+00, 6.33333333e+00, 6.33333333e+00,\n",
              "        6.33333333e+00, 6.33333333e+00, 6.33333333e+00, 4.44089210e-16,\n",
              "        6.33333333e+00, 6.33333333e+00]),\n",
              " array([1.14000000e+01, 2.23820962e-13, 2.23820962e-13, 1.14000000e+01,\n",
              "        1.14000000e+01, 1.14000000e+01, 1.14000000e+01, 2.22044605e-13,\n",
              "        2.23820962e-13, 2.23376873e-13]),\n",
              " array([1.14000000e+01, 2.23820962e-13, 2.23820962e-13, 1.14000000e+01,\n",
              "        1.14000000e+01, 1.14000000e+01, 1.14000000e+01, 2.22044605e-13,\n",
              "        2.23820962e-13, 2.23376873e-13]),\n",
              " array([1.14000000e+01, 2.23820962e-13, 2.23820962e-13, 1.14000000e+01,\n",
              "        1.14000000e+01, 1.14000000e+01, 1.14000000e+01, 2.22044605e-13,\n",
              "        2.23820962e-13, 2.23376873e-13]),\n",
              " array([ 8.14285714e+00, -3.66373598e-14, -3.68594044e-14,  8.14285714e+00,\n",
              "        -3.67483821e-14,  8.14285714e+00,  8.14285714e+00,  8.14285714e+00,\n",
              "         8.14285714e+00,  8.14285714e+00]),\n",
              " array([ 8.14285714e+00, -3.66373598e-14, -3.68594044e-14,  8.14285714e+00,\n",
              "        -3.67483821e-14,  8.14285714e+00,  8.14285714e+00,  8.14285714e+00,\n",
              "         8.14285714e+00,  8.14285714e+00]),\n",
              " array([ 8.14285714e+00, -3.66373598e-14, -3.68594044e-14,  8.14285714e+00,\n",
              "        -3.67483821e-14,  8.14285714e+00,  8.14285714e+00,  8.14285714e+00,\n",
              "         8.14285714e+00,  8.14285714e+00]),\n",
              " array([ 8.14285714e+00,  8.14285714e+00, -1.08912879e-13, -1.13575815e-13,\n",
              "         8.14285714e+00, -1.09467990e-13,  8.14285714e+00,  8.14285714e+00,\n",
              "         8.14285714e+00,  8.14285714e+00]),\n",
              " array([ 8.14285714e+00,  8.14285714e+00, -1.08912879e-13, -1.13575815e-13,\n",
              "         8.14285714e+00, -1.09467990e-13,  8.14285714e+00,  8.14285714e+00,\n",
              "         8.14285714e+00,  8.14285714e+00]),\n",
              " array([ 8.14285714e+00,  8.14285714e+00, -1.08912879e-13, -1.13575815e-13,\n",
              "         8.14285714e+00, -1.09467990e-13,  8.14285714e+00,  8.14285714e+00,\n",
              "         8.14285714e+00,  8.14285714e+00]),\n",
              " array([9.50000000e+00, 1.07247544e-13, 9.50000000e+00, 1.09690035e-13,\n",
              "        9.50000000e+00, 9.50000000e+00, 1.06359366e-13, 9.50000000e+00,\n",
              "        9.50000000e+00, 1.05249143e-13]),\n",
              " array([9.50000000e+00, 1.07247544e-13, 9.50000000e+00, 1.09690035e-13,\n",
              "        9.50000000e+00, 9.50000000e+00, 1.06359366e-13, 9.50000000e+00,\n",
              "        9.50000000e+00, 1.05249143e-13]),\n",
              " array([9.50000000e+00, 1.07247544e-13, 9.50000000e+00, 1.09690035e-13,\n",
              "        9.50000000e+00, 9.50000000e+00, 1.06359366e-13, 9.50000000e+00,\n",
              "        9.50000000e+00, 1.05249143e-13]),\n",
              " array([-1.42108547e-14, -8.88178420e-15, -1.42108547e-14, -1.15463195e-14,\n",
              "        -1.24344979e-14, -9.76996262e-15, -1.24344979e-14, -9.76996262e-15,\n",
              "         2.85000000e+01,  2.85000000e+01]),\n",
              " array([-1.42108547e-14, -8.88178420e-15, -1.42108547e-14, -1.15463195e-14,\n",
              "        -1.24344979e-14, -9.76996262e-15, -1.24344979e-14, -9.76996262e-15,\n",
              "         2.85000000e+01,  2.85000000e+01]),\n",
              " array([-1.42108547e-14, -8.88178420e-15, -1.42108547e-14, -1.15463195e-14,\n",
              "        -1.24344979e-14, -9.76996262e-15, -1.24344979e-14, -9.76996262e-15,\n",
              "         2.85000000e+01,  2.85000000e+01])]"
            ]
          },
          "metadata": {},
          "execution_count": 267
        }
      ]
    },
    {
      "cell_type": "code",
      "source": [
        "#Récupération des calculs de la matrice optimale à toutes les itérations\n",
        "Xoptim = np.zeros((n,n*MAX_ITERS))\n",
        "\n",
        "for k in range(n):\n",
        "  j=0\n",
        "  for i in range(MAX_ITERS) :\n",
        "    Xoptim[:,j+k] = results[i+k*MAX_ITERS]\n",
        "    j = j+MAX_ITERS\n",
        "\n",
        "Xoptim[:,29]"
      ],
      "metadata": {
        "colab": {
          "base_uri": "https://localhost:8080/",
          "height": 251
        },
        "id": "y1oLCSReBOjI",
        "outputId": "df85dc14-fbb1-494b-a5ed-d77eacc6d497"
      },
      "execution_count": null,
      "outputs": [
        {
          "output_type": "error",
          "ename": "IndexError",
          "evalue": "index 1000 is out of bounds for axis 1 with size 1000",
          "traceback": [
            "\u001b[0;31m---------------------------------------------------------------------------\u001b[0m",
            "\u001b[0;31mIndexError\u001b[0m                                Traceback (most recent call last)",
            "\u001b[0;32m<ipython-input-250-c829dee11beb>\u001b[0m in \u001b[0;36m<cell line: 4>\u001b[0;34m()\u001b[0m\n\u001b[1;32m      5\u001b[0m   \u001b[0mj\u001b[0m\u001b[0;34m=\u001b[0m\u001b[0;36m0\u001b[0m\u001b[0;34m\u001b[0m\u001b[0;34m\u001b[0m\u001b[0m\n\u001b[1;32m      6\u001b[0m   \u001b[0;32mfor\u001b[0m \u001b[0mi\u001b[0m \u001b[0;32min\u001b[0m \u001b[0mrange\u001b[0m\u001b[0;34m(\u001b[0m\u001b[0mMAX_ITERS\u001b[0m\u001b[0;34m)\u001b[0m \u001b[0;34m:\u001b[0m\u001b[0;34m\u001b[0m\u001b[0;34m\u001b[0m\u001b[0m\n\u001b[0;32m----> 7\u001b[0;31m     \u001b[0mXoptim\u001b[0m\u001b[0;34m[\u001b[0m\u001b[0;34m:\u001b[0m\u001b[0;34m,\u001b[0m\u001b[0mj\u001b[0m\u001b[0;34m+\u001b[0m\u001b[0mk\u001b[0m\u001b[0;34m]\u001b[0m \u001b[0;34m=\u001b[0m \u001b[0mresults\u001b[0m\u001b[0;34m[\u001b[0m\u001b[0mi\u001b[0m\u001b[0;34m+\u001b[0m\u001b[0mk\u001b[0m\u001b[0;34m*\u001b[0m\u001b[0mMAX_ITERS\u001b[0m\u001b[0;34m]\u001b[0m\u001b[0;34m\u001b[0m\u001b[0;34m\u001b[0m\u001b[0m\n\u001b[0m\u001b[1;32m      8\u001b[0m     \u001b[0mj\u001b[0m \u001b[0;34m=\u001b[0m \u001b[0mj\u001b[0m\u001b[0;34m+\u001b[0m\u001b[0mMAX_ITERS\u001b[0m\u001b[0;34m\u001b[0m\u001b[0;34m\u001b[0m\u001b[0m\n\u001b[1;32m      9\u001b[0m \u001b[0;34m\u001b[0m\u001b[0m\n",
            "\u001b[0;31mIndexError\u001b[0m: index 1000 is out of bounds for axis 1 with size 1000"
          ]
        }
      ]
    },
    {
      "cell_type": "code",
      "source": [
        "A"
      ],
      "metadata": {
        "colab": {
          "base_uri": "https://localhost:8080/"
        },
        "id": "I5GdkeC0XxKb",
        "outputId": "fc9062c5-956c-44c9-f50b-cb1c7e52045e"
      },
      "execution_count": null,
      "outputs": [
        {
          "output_type": "execute_result",
          "data": {
            "text/plain": [
              "array([[0., 0., 1., 1., 0., 0., 0., 0., 0., 1.],\n",
              "       [1., 0., 1., 0., 0., 1., 1., 0., 1., 1.],\n",
              "       [1., 0., 0., 1., 0., 1., 1., 1., 0., 1.],\n",
              "       [1., 1., 0., 0., 0., 0., 0., 1., 1., 1.],\n",
              "       [0., 0., 0., 0., 0., 0., 1., 0., 0., 1.],\n",
              "       [1., 0., 1., 1., 0., 0., 0., 1., 0., 1.],\n",
              "       [1., 0., 0., 1., 0., 0., 0., 0., 1., 1.],\n",
              "       [0., 0., 0., 1., 1., 1., 0., 0., 0., 1.],\n",
              "       [0., 1., 1., 0., 0., 1., 0., 0., 0., 0.],\n",
              "       [1., 1., 0., 0., 0., 1., 0., 0., 1., 0.]])"
            ]
          },
          "metadata": {},
          "execution_count": 320
        }
      ]
    },
    {
      "cell_type": "code",
      "source": [
        "#Calcul des erreurs à chaque iterations\n",
        "erreurs = np.zeros(MAX_ITERS)\n",
        "\n",
        "\n",
        "for i in range(MAX_ITERS):\n",
        "  M = Xoptim[:,i*n:(i+1)*n]\n",
        "  erreurs[i] = np.linalg.norm(M - Z,ord=\"fro\")\n",
        "#print(np.linalg.norm((Xoptim[:,4*n:(4+1)*n] - Z),ord='fro'))\n",
        "erreurs"
      ],
      "metadata": {
        "colab": {
          "base_uri": "https://localhost:8080/"
        },
        "id": "nZzLFmlrNkK2",
        "outputId": "c310bac2-a60e-42dc-d552-f340c4e28bf2"
      },
      "execution_count": null,
      "outputs": [
        {
          "output_type": "execute_result",
          "data": {
            "text/plain": [
              "array([8.73276605, 8.73276605, 8.73276605, 8.73276605, 8.73276605,\n",
              "       8.73276605, 8.73276605, 8.73276605, 8.73276605, 8.73276605])"
            ]
          },
          "metadata": {},
          "execution_count": 233
        }
      ]
    },
    {
      "cell_type": "code",
      "source": [
        "#Essai ADMM\n",
        "\n",
        "M = -np.transpose(A)\n",
        "phik = np.zeros(n)\n",
        "zk = np.zeros(n)\n",
        "gamma = 1/2\n",
        "#Norme carrée MC\n",
        "\n",
        "lambda v : np.linalg.norm(M@v - gamma*phik - )"
      ],
      "metadata": {
        "id": "aCgk9qwZkXkN"
      },
      "execution_count": null,
      "outputs": []
    }
  ]
}